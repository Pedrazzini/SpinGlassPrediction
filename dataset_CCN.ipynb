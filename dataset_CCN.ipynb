{
 "cells": [
  {
   "cell_type": "code",
   "id": "initial_id",
   "metadata": {
    "collapsed": true,
    "ExecuteTime": {
     "end_time": "2024-08-21T11:11:12.518213Z",
     "start_time": "2024-08-21T11:11:02.768534Z"
    }
   },
   "source": [
    "# I want to organize the dataset in order to pass it to the Feed Forward Neural Network: a vector ((N-1)*N*2,1) of connections with the addiction of the temperature T, the energy and q_EA\n",
    "%matplotlib inline\n",
    "import pandas as pd\n",
    "\n",
    "N = 6\n",
    "# load the previous dataset\n",
    "df = pd.read_pickle('spin_glass_dataset.pkl')\n",
    "\n",
    "# conversion in a dictionary\n",
    "data = df.to_dict(orient='records')\n",
    "\n",
    "# creation of a new dataset\n",
    "new_data = []\n",
    "\n",
    "for record in data:\n",
    "    J = record['J']\n",
    "    T = record['T']\n",
    "    energy = record['energy']\n",
    "    q_EA = record['q_EA']\n",
    "\n",
    "    # initialize a list for the new J\n",
    "    J_new = []\n",
    "\n",
    "    # extraction of components J_ij_right per i = 0:(N-1) e j = 0:N-2\n",
    "    for i in range(N):\n",
    "        for j in range(N-1):\n",
    "            J_new.append(J[i, j, 1])  # J_ij_right\n",
    "\n",
    "    # extraction of components J_ij_down per i = 0:N-2 e j = 0:(N-1)\n",
    "    for i in range(N-1):\n",
    "        for j in range(N):\n",
    "            J_new.append(J[i, j, 3])  # J_ij_down\n",
    "\n",
    "    # add to the new dataset\n",
    "    new_data.append({\n",
    "        'J': J_new,\n",
    "        'T': T,\n",
    "        'energy': energy,\n",
    "        'q_EA': q_EA\n",
    "    })\n",
    "\n",
    "# convert new dataset in a DataFrame\n",
    "new_df = pd.DataFrame(new_data)\n",
    "\n",
    "# save in a file\n",
    "new_df.to_pickle('new_spin_glass_dataset.pkl')\n",
    "\n",
    "print(\"Nuovo dataset salvato con successo!\")"
   ],
   "outputs": [
    {
     "name": "stdout",
     "output_type": "stream",
     "text": [
      "Nuovo dataset salvato con successo!\n"
     ]
    }
   ],
   "execution_count": 1
  },
  {
   "metadata": {
    "ExecuteTime": {
     "end_time": "2024-09-03T22:12:51.083113Z",
     "start_time": "2024-09-03T22:12:50.149214Z"
    }
   },
   "cell_type": "code",
   "source": [
    "import pandas as pd\n",
    "# load new dataset\n",
    "df = pd.read_pickle('new_spin_glass_dataset.pkl')\n",
    "\n",
    "# print an element\n",
    "first_element = df.iloc[14]#['J']\n",
    "print(first_element)"
   ],
   "id": "3298a3803ea28a76",
   "outputs": [
    {
     "name": "stdout",
     "output_type": "stream",
     "text": [
      "J         [-1, 1, 1, -1, 1, 1, -1, 1, 1, 1, 1, 1, 1, 1, ...\n",
      "T                                                       2.6\n",
      "energy                                           -21.232481\n",
      "q_EA                                               0.001381\n",
      "Name: 14, dtype: object\n"
     ]
    }
   ],
   "execution_count": 7
  },
  {
   "metadata": {
    "ExecuteTime": {
     "end_time": "2024-08-21T11:11:42.533887Z",
     "start_time": "2024-08-21T11:11:41.833519Z"
    }
   },
   "cell_type": "code",
   "source": [
    "import pandas as pd\n",
    "\n",
    "data = pd.read_pickle('new_spin_glass_dataset.pkl')\n",
    "\n",
    "# number of elements\n",
    "print(f\"Numero di elementi nel dataset: {data.shape}\")\n",
    "\n"
   ],
   "id": "4cb93ff714a0a87a",
   "outputs": [
    {
     "name": "stdout",
     "output_type": "stream",
     "text": [
      "Numero di elementi nel dataset: (32800, 4)\n"
     ]
    }
   ],
   "execution_count": 3
  }
 ],
 "metadata": {
  "kernelspec": {
   "display_name": "Python 3",
   "language": "python",
   "name": "python3"
  },
  "language_info": {
   "codemirror_mode": {
    "name": "ipython",
    "version": 2
   },
   "file_extension": ".py",
   "mimetype": "text/x-python",
   "name": "python",
   "nbconvert_exporter": "python",
   "pygments_lexer": "ipython2",
   "version": "2.7.6"
  }
 },
 "nbformat": 4,
 "nbformat_minor": 5
}
