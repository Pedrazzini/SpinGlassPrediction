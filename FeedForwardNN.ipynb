{
 "cells": [
  {
   "cell_type": "code",
   "id": "initial_id",
   "metadata": {
    "collapsed": true,
    "ExecuteTime": {
     "end_time": "2024-09-04T08:44:32.024643Z",
     "start_time": "2024-09-04T08:44:20.553976Z"
    }
   },
   "source": [
    "# import necessary libraries\n",
    "import torch\n",
    "import torch.nn as nn\n",
    "import torch.optim as optim\n",
    "from torch.utils.data import DataLoader, TensorDataset, random_split\n",
    "import pandas as pd\n",
    "import numpy as np\n",
    "import matplotlib.pyplot as plt\n",
    "from sklearn.preprocessing import StandardScaler\n",
    "from sklearn.metrics import mean_squared_error"
   ],
   "outputs": [],
   "execution_count": 1
  },
  {
   "metadata": {
    "ExecuteTime": {
     "end_time": "2024-09-04T08:44:36.985900Z",
     "start_time": "2024-09-04T08:44:34.442182Z"
    }
   },
   "cell_type": "code",
   "source": [
    "# import dataset\n",
    "df = pd.read_pickle('new_spin_glass_dataset.pkl')\n",
    "\n",
    "# separation between features and targets\n",
    "X = df[['J', 'T']].values\n",
    "y = df[['energy', 'q_EA']].values\n",
    "\n",
    "# separation between J and T\n",
    "X_J = np.stack(df['J'].values)\n",
    "X_T = df['T'].values.reshape(-1, 1)\n",
    "\n",
    "# concatenation to create the input in the Feed Forward Network\n",
    "X = np.hstack((X_J, X_T))\n",
    "\n",
    "# conversion in PyTorch tensors\n",
    "X = torch.tensor(X, dtype=torch.float32)\n",
    "y = torch.tensor(y, dtype=torch.float32)\n",
    "\n",
    "# creating dataset\n",
    "dataset = TensorDataset(X, y)\n",
    "\n",
    "# creating training, val, and test\n",
    "train_size = int(0.7 * len(dataset))  # 70% for training\n",
    "val_size = int(0.2 * len(dataset))    # 20% for validation\n",
    "test_size = len(dataset) - train_size - val_size  # 10% for test\n",
    "\n",
    "train_dataset, temp_dataset = random_split(dataset, [train_size, len(dataset) - train_size])\n",
    "val_dataset, test_dataset = random_split(temp_dataset, [val_size, test_size])\n",
    "\n",
    "# creating the dataloader\n",
    "train_loader = DataLoader(train_dataset, batch_size=32, shuffle=True)\n",
    "val_loader = DataLoader(val_dataset, batch_size=32, shuffle=False)\n",
    "test_loader = DataLoader(test_dataset, batch_size=32, shuffle=False)\n",
    "\n",
    "# print sets cardinality\n",
    "print(f\"Cardinality training set: {len(train_dataset)}\")\n",
    "print(f\"Cardinality del validation set: {len(val_dataset)}\")\n",
    "print(f\"Cardinality del test set: {len(test_dataset)}\")"
   ],
   "id": "f796794acc0e64d4",
   "outputs": [
    {
     "name": "stdout",
     "output_type": "stream",
     "text": [
      "Cardinality training set: 22960\n",
      "Cardinality del validation set: 6560\n",
      "Cardinality del test set: 3280\n"
     ]
    }
   ],
   "execution_count": 2
  },
  {
   "metadata": {
    "ExecuteTime": {
     "end_time": "2024-09-04T08:44:45.411450Z",
     "start_time": "2024-09-04T08:44:45.390420Z"
    }
   },
   "cell_type": "code",
   "source": [
    "last_sample = dataset[32799]\n",
    "print(\"last input sample shape (X):\", last_sample[0].shape)\n",
    "print(\"last target sample shape (y):\", last_sample[1].shape)"
   ],
   "id": "609210e4f2d0f02",
   "outputs": [
    {
     "name": "stdout",
     "output_type": "stream",
     "text": [
      "last input sample shape (X): torch.Size([61])\n",
      "last target sample shape (y): torch.Size([2])\n"
     ]
    }
   ],
   "execution_count": 3
  },
  {
   "metadata": {
    "ExecuteTime": {
     "end_time": "2024-09-04T08:44:51.766129Z",
     "start_time": "2024-09-04T08:44:51.744567Z"
    }
   },
   "cell_type": "code",
   "source": [
    "# definition of my neural network\n",
    "class FeedForwardNN(nn.Module):\n",
    "    def __init__(self, input_size):\n",
    "        super(FeedForwardNN, self).__init__()\n",
    "        self.fc1 = nn.Linear(input_size, input_size)\n",
    "        self.tanh1 = nn.Tanh()\n",
    "        self.fc2 = nn.Linear(input_size, input_size // 2)\n",
    "        self.tanh2 = nn.Tanh()\n",
    "        self.fc3 = nn.Linear(input_size // 2, input_size // 2)\n",
    "        self.tanh3 = nn.Tanh()\n",
    "        self.fc4 = nn.Linear(input_size // 2, 2)  # Output layer\n",
    "\n",
    "    def forward(self, x):\n",
    "        x = self.tanh1(self.fc1(x))\n",
    "        x = self.tanh2(self.fc2(x))\n",
    "        x = self.tanh3(self.fc3(x))\n",
    "        x = self.fc4(x)\n",
    "        return x\n"
   ],
   "id": "9e643ea6e90b6f5c",
   "outputs": [],
   "execution_count": 4
  },
  {
   "metadata": {
    "ExecuteTime": {
     "end_time": "2024-09-04T08:45:22.542517Z",
     "start_time": "2024-09-04T08:45:22.531004Z"
    }
   },
   "cell_type": "code",
   "source": [
    "input_size = X.shape[1] # 61\n",
    "model = FeedForwardNN(input_size)\n",
    "\n",
    "# loss function and optimizer\n",
    "criterion = nn.MSELoss()\n",
    "optimizer = optim.Adam(model.parameters(), lr=0.01)\n",
    "\n",
    "# print the total number of trainable parameters\n",
    "total_params = sum(p.numel() for p in model.parameters() if p.requires_grad)\n",
    "print(\"The total number of trainable parameters is:\", total_params)\n"
   ],
   "id": "c64919a4c324b752",
   "outputs": [
    {
     "name": "stdout",
     "output_type": "stream",
     "text": [
      "The total number of trainable parameters is: 6634\n"
     ]
    }
   ],
   "execution_count": 7
  },
  {
   "metadata": {
    "ExecuteTime": {
     "end_time": "2024-08-31T15:23:52.248120Z",
     "start_time": "2024-08-31T15:22:13.962348Z"
    }
   },
   "cell_type": "code",
   "source": [
    "num_epochs = 30 # same for all the networks in order to compare them\n",
    "train_losses = []\n",
    "val_losses = []\n",
    "\n",
    "for epoch in range(num_epochs):\n",
    "    model.train()\n",
    "    running_loss = 0.0\n",
    "    for inputs, targets in train_loader:\n",
    "        optimizer.zero_grad()\n",
    "        outputs = model(inputs)\n",
    "        loss = criterion(outputs, targets)\n",
    "        loss.backward()\n",
    "        optimizer.step()\n",
    "        running_loss += loss.item() * inputs.size(0)\n",
    "\n",
    "    train_loss = running_loss / len(train_loader.dataset) # average\n",
    "    train_losses.append(train_loss)\n",
    "\n",
    "    # validation loss\n",
    "    model.eval()\n",
    "    val_loss = 0.0\n",
    "    with torch.no_grad():\n",
    "        for inputs, targets in val_loader:\n",
    "            outputs = model(inputs)\n",
    "            loss = criterion(outputs, targets)\n",
    "            val_loss += loss.item() * inputs.size(0)\n",
    "    val_loss = val_loss / len(val_loader.dataset) #average\n",
    "    val_losses.append(val_loss)\n",
    "\n",
    "    print(f\"Epoch [{epoch+1}/{num_epochs}], Train Loss: {train_loss:.4f}, Val Loss: {val_loss:.4f}\")\n"
   ],
   "id": "a483a248ffe2c7bf",
   "outputs": [
    {
     "name": "stdout",
     "output_type": "stream",
     "text": [
      "Epoch [1/30], Train Loss: 74.6075, Val Loss: 64.3293\n",
      "Epoch [2/30], Train Loss: 65.7835, Val Loss: 63.8676\n",
      "Epoch [3/30], Train Loss: 65.7675, Val Loss: 63.9094\n",
      "Epoch [4/30], Train Loss: 65.8118, Val Loss: 63.9831\n",
      "Epoch [5/30], Train Loss: 65.7575, Val Loss: 63.8691\n",
      "Epoch [6/30], Train Loss: 65.7871, Val Loss: 64.1929\n",
      "Epoch [7/30], Train Loss: 27.4025, Val Loss: 5.7280\n",
      "Epoch [8/30], Train Loss: 4.7894, Val Loss: 3.2090\n",
      "Epoch [9/30], Train Loss: 3.0725, Val Loss: 3.2788\n",
      "Epoch [10/30], Train Loss: 2.5661, Val Loss: 2.8642\n",
      "Epoch [11/30], Train Loss: 2.3300, Val Loss: 2.0917\n",
      "Epoch [12/30], Train Loss: 2.4471, Val Loss: 2.8037\n",
      "Epoch [13/30], Train Loss: 2.4276, Val Loss: 2.1096\n",
      "Epoch [14/30], Train Loss: 2.3841, Val Loss: 2.2084\n",
      "Epoch [15/30], Train Loss: 2.0535, Val Loss: 1.6724\n",
      "Epoch [16/30], Train Loss: 2.1419, Val Loss: 2.4961\n",
      "Epoch [17/30], Train Loss: 2.0834, Val Loss: 1.9558\n",
      "Epoch [18/30], Train Loss: 2.1856, Val Loss: 2.3281\n",
      "Epoch [19/30], Train Loss: 2.4234, Val Loss: 2.2315\n",
      "Epoch [20/30], Train Loss: 2.4877, Val Loss: 2.4995\n",
      "Epoch [21/30], Train Loss: 2.0782, Val Loss: 2.3341\n",
      "Epoch [22/30], Train Loss: 2.2139, Val Loss: 2.5875\n",
      "Epoch [23/30], Train Loss: 2.0837, Val Loss: 3.1418\n",
      "Epoch [24/30], Train Loss: 2.1881, Val Loss: 2.6598\n",
      "Epoch [25/30], Train Loss: 2.0897, Val Loss: 1.9812\n",
      "Epoch [26/30], Train Loss: 2.2156, Val Loss: 2.5964\n",
      "Epoch [27/30], Train Loss: 3.0350, Val Loss: 2.3596\n",
      "Epoch [28/30], Train Loss: 2.3724, Val Loss: 2.6983\n",
      "Epoch [29/30], Train Loss: 2.8209, Val Loss: 2.4953\n",
      "Epoch [30/30], Train Loss: 2.6304, Val Loss: 2.2601\n"
     ]
    }
   ],
   "execution_count": 6
  },
  {
   "metadata": {
    "ExecuteTime": {
     "end_time": "2024-08-31T15:24:08.882111Z",
     "start_time": "2024-08-31T15:24:08.765893Z"
    }
   },
   "cell_type": "code",
   "source": [
    "# now I want to evaluate the goodness of the predictions with the test loader\n",
    "\n",
    "model.eval()\n",
    "test_preds = []\n",
    "test_targets = []\n",
    "\n",
    "with torch.no_grad():\n",
    "    for inputs, targets in test_loader:\n",
    "        outputs = model(inputs)\n",
    "        test_preds.append(outputs.numpy())\n",
    "        test_targets.append(targets.numpy())\n",
    "\n",
    "test_preds = np.concatenate(test_preds, axis=0)\n",
    "test_targets = np.concatenate(test_targets, axis=0)\n",
    "\n",
    "# computing RMSE\n",
    "rmse_energy = np.sqrt(mean_squared_error(test_targets[:, 0], test_preds[:, 0]))\n",
    "rmse_q_EA = np.sqrt(mean_squared_error(test_targets[:, 1], test_preds[:, 1]))\n",
    "\n",
    "print(f\"RMSE Energy: {rmse_energy:.4f}\")\n",
    "print(f\"RMSE q_EA: {rmse_q_EA:.4f}\")\n"
   ],
   "id": "eaf74462efbf5718",
   "outputs": [
    {
     "name": "stdout",
     "output_type": "stream",
     "text": [
      "RMSE Energy: 2.0683\n",
      "RMSE q_EA: 0.1876\n"
     ]
    }
   ],
   "execution_count": 7
  },
  {
   "metadata": {
    "ExecuteTime": {
     "end_time": "2024-08-31T15:24:18.994270Z",
     "start_time": "2024-08-31T15:24:18.763222Z"
    }
   },
   "cell_type": "code",
   "source": [
    "# plot the evolution of test and validation loss in order to prevent overfitting\n",
    "plt.figure(figsize=(10, 6))\n",
    "plt.plot(train_losses, label='Training Loss')\n",
    "plt.plot(val_losses, label='Validation Loss')\n",
    "plt.xlabel('Epoch')\n",
    "plt.ylabel('Loss')\n",
    "plt.title('Training and Validation Loss')\n",
    "plt.legend()\n",
    "plt.show()\n"
   ],
   "id": "709695e5103f6930",
   "outputs": [
    {
     "data": {
      "text/plain": [
       "<Figure size 1000x600 with 1 Axes>"
      ],
      "image/png": "[encoded data removed]"
     },
     "metadata": {},
     "output_type": "display_data"
    }
   ],
   "execution_count": 8
  },
  {
   "metadata": {
    "ExecuteTime": {
     "end_time": "2024-08-31T15:24:26.532804Z",
     "start_time": "2024-08-31T15:24:26.514681Z"
    }
   },
   "cell_type": "code",
   "source": [
    "# import libraries to compare Monte Carlo predictions and the one done by the network\n",
    "import matplotlib.pyplot as plt\n",
    "import torch\n",
    "import torch.nn as nn\n",
    "import numpy as np\n",
    "import random\n",
    "import pandas as pd\n",
    "from sklearn.preprocessing import MinMaxScaler\n",
    "import joblib\n"
   ],
   "id": "5ceaff2d86f6467d",
   "outputs": [],
   "execution_count": 9
  },
  {
   "metadata": {
    "ExecuteTime": {
     "end_time": "2024-08-31T15:27:24.442035Z",
     "start_time": "2024-08-31T15:27:24.420549Z"
    }
   },
   "cell_type": "code",
   "source": [
    "# code taken from the creation of the dataset\n",
    "def create_initial_config(N=None):\n",
    "    states = [-1., 1.]\n",
    "    config = np.random.choice(states, (N, N))\n",
    "    return config\n",
    "\n",
    "def metropolis_single_update(config=None, T=None, J=None):\n",
    "    N, M = config.shape\n",
    "    assert N == M, \"Wrong configuration shape\"\n",
    "    i = np.random.randint(N)\n",
    "    j = np.random.randint(M)\n",
    "    s =  config[i, j]\n",
    "    DeltaE = 2*s*(J[i,j,0]*config[i,(j-1)%N] + J[i,j,1]*config[i,(j+1)%N] + J[i,j,2]*config[(i+1)%N, j] + J[i,j,3]*config[(i-1)%N, j])\n",
    "    effDeltaE = 0\n",
    "    if DeltaE < 0:\n",
    "        s *= -1\n",
    "        effDeltaE = DeltaE\n",
    "    else:\n",
    "        if np.random.random() < np.exp(-DeltaE/T):\n",
    "            s *= -1\n",
    "            effDeltaE = DeltaE\n",
    "    config[i, j] = s\n",
    "    return effDeltaE\n",
    "\n",
    "def create_vector(N, p):\n",
    "    dim = (N-1)*N*2\n",
    "    vector = np.ones(dim, dtype=int)\n",
    "    negative_indices = np.random.choice(dim, p, replace=False)\n",
    "    vector[negative_indices] = -1\n",
    "    return vector\n",
    "\n",
    "def create_spin_glass_dataset(N, v):\n",
    "    J = np.zeros((N, N, 4), dtype=int)\n",
    "    count = 0\n",
    "    for i in range(N):\n",
    "        for j in range(N):\n",
    "            if j == 0:\n",
    "                J[i, j, 0] = 0\n",
    "            else:\n",
    "                J[i, j, 0] = J[i, j-1, 1]\n",
    "            if j == N-1:\n",
    "                J[i, j, 1] = 0\n",
    "            else:\n",
    "                J[i, j, 1] = v[count]\n",
    "                count = count + 1\n",
    "            if i == 0:\n",
    "                J[i, j, 2] = 0\n",
    "            else:\n",
    "                J[i, j, 2] = J[i-1, j, 3]\n",
    "            if i == N-1:\n",
    "                J[i, j, 3] = 0\n",
    "            else:\n",
    "                J[i, j, 3] = v[count]\n",
    "                count = count + 1\n",
    "    return J\n",
    "\n",
    "def compute_q_EA(config_history):\n",
    "    N = config_history.shape[1]\n",
    "    avg_spins = np.mean(config_history, axis=0)\n",
    "    q_EA = np.sum(avg_spins ** 2) / (N * N)\n",
    "    return q_EA\n",
    "\n",
    "def compute_total_energy(config, J):\n",
    "    N, M = config.shape\n",
    "    total_energy = 0\n",
    "    for i in range(N):\n",
    "        for j in range(M):\n",
    "            s = config[i, j]\n",
    "            total_energy -= s * (J[i, j, 0] * config[i, (j-1)%N] +\n",
    "                                 J[i, j, 1] * config[i, (j+1)%N] +\n",
    "                                 J[i, j, 2] * config[(i+1)%N, j] +\n",
    "                                 J[i, j, 3] * config[(i-1)%N, j])\n",
    "    return total_energy / 2  # to account for double-counting\n"
   ],
   "id": "bdb951b88233e4f6",
   "outputs": [],
   "execution_count": 10
  },
  {
   "metadata": {
    "ExecuteTime": {
     "end_time": "2024-08-31T15:27:29.113128Z",
     "start_time": "2024-08-31T15:27:29.105167Z"
    }
   },
   "cell_type": "code",
   "source": [
    "# parameters\n",
    "N = 6\n",
    "T_values = np.arange(4, 0, -0.1)\n",
    "T_values = np.append(T_values, 0.1)\n",
    "n_updates = 100000\n",
    "\n",
    "# generation of spin glass dataset\n",
    "p = random.choice(range(0, (N-1) * N * 2 + 1))\n",
    "v = create_vector(N, p)\n",
    "J = create_spin_glass_dataset(N, v)\n",
    "\n",
    "# initializing configuration\n",
    "config = create_initial_config(N)\n"
   ],
   "id": "db3a00c1d0bc4a14",
   "outputs": [],
   "execution_count": 11
  },
  {
   "metadata": {
    "ExecuteTime": {
     "end_time": "2024-08-31T15:33:58.855336Z",
     "start_time": "2024-08-31T15:33:13.544672Z"
    }
   },
   "cell_type": "code",
   "source": [
    "# Monte Carlo quantities\n",
    "mc_energies = []\n",
    "mc_q_EAs = []\n",
    "\n",
    "for T in T_values:\n",
    "    total_energy_sum = 0\n",
    "    config_history = []\n",
    "    total_measurements = 0\n",
    "\n",
    "    for k in range(n_updates):\n",
    "        DeltaE = metropolis_single_update(config, T=T, J=J)\n",
    "        if k > 10000 and k % 100 == 0:\n",
    "            config_history.append(config.copy())\n",
    "            total_energy = compute_total_energy(config, J)\n",
    "            total_energy_sum += total_energy\n",
    "            total_measurements += 1\n",
    "\n",
    "    average_energy = total_energy_sum / total_measurements\n",
    "    config_history = np.array(config_history)\n",
    "    q_EA = compute_q_EA(config_history)\n",
    "\n",
    "    mc_energies.append(average_energy)\n",
    "    mc_q_EAs.append(q_EA)\n"
   ],
   "id": "882f72569af58a2a",
   "outputs": [],
   "execution_count": 19
  },
  {
   "metadata": {
    "ExecuteTime": {
     "end_time": "2024-08-31T15:34:07.912593Z",
     "start_time": "2024-08-31T15:34:07.901700Z"
    }
   },
   "cell_type": "code",
   "source": [
    "# code taken form preprocessing to create the dataset to pass to the Feed Forward Network\n",
    "J_new = []\n",
    "\n",
    "for i in range(N):\n",
    "    for j in range(N-1):\n",
    "        J_new.append(J[i, j, 1])  \n",
    "\n",
    "for i in range(N-1):\n",
    "    for j in range(N):\n",
    "        J_new.append(J[i, j, 3]) \n",
    "\n",
    "J_new = np.array(J_new)\n"
   ],
   "id": "fece3c509bf9a955",
   "outputs": [],
   "execution_count": 21
  },
  {
   "metadata": {
    "ExecuteTime": {
     "end_time": "2024-08-31T15:34:13.066035Z",
     "start_time": "2024-08-31T15:34:13.056974Z"
    }
   },
   "cell_type": "code",
   "source": "print(J_new.reshape(-1,1))",
   "id": "fa26760b806bd5ed",
   "outputs": [
    {
     "name": "stdout",
     "output_type": "stream",
     "text": [
      "[[-1]\n",
      " [ 1]\n",
      " [-1]\n",
      " [ 1]\n",
      " [-1]\n",
      " [ 1]\n",
      " [ 1]\n",
      " [ 1]\n",
      " [ 1]\n",
      " [-1]\n",
      " [-1]\n",
      " [ 1]\n",
      " [ 1]\n",
      " [-1]\n",
      " [-1]\n",
      " [-1]\n",
      " [-1]\n",
      " [-1]\n",
      " [-1]\n",
      " [ 1]\n",
      " [ 1]\n",
      " [-1]\n",
      " [ 1]\n",
      " [-1]\n",
      " [-1]\n",
      " [ 1]\n",
      " [-1]\n",
      " [-1]\n",
      " [ 1]\n",
      " [-1]\n",
      " [-1]\n",
      " [-1]\n",
      " [ 1]\n",
      " [-1]\n",
      " [-1]\n",
      " [-1]\n",
      " [ 1]\n",
      " [-1]\n",
      " [-1]\n",
      " [ 1]\n",
      " [-1]\n",
      " [-1]\n",
      " [-1]\n",
      " [-1]\n",
      " [ 1]\n",
      " [ 1]\n",
      " [-1]\n",
      " [ 1]\n",
      " [ 1]\n",
      " [ 1]\n",
      " [-1]\n",
      " [-1]\n",
      " [-1]\n",
      " [ 1]\n",
      " [-1]\n",
      " [ 1]\n",
      " [-1]\n",
      " [-1]\n",
      " [ 1]\n",
      " [-1]]\n"
     ]
    }
   ],
   "execution_count": 22
  },
  {
   "metadata": {
    "ExecuteTime": {
     "end_time": "2024-08-31T15:29:02.731927Z",
     "start_time": "2024-08-31T15:29:02.715542Z"
    }
   },
   "cell_type": "code",
   "source": "print(T_values.reshape(-1,1))",
   "id": "d87ed1165269e571",
   "outputs": [
    {
     "name": "stdout",
     "output_type": "stream",
     "text": [
      "[[4. ]\n",
      " [3.9]\n",
      " [3.8]\n",
      " [3.7]\n",
      " [3.6]\n",
      " [3.5]\n",
      " [3.4]\n",
      " [3.3]\n",
      " [3.2]\n",
      " [3.1]\n",
      " [3. ]\n",
      " [2.9]\n",
      " [2.8]\n",
      " [2.7]\n",
      " [2.6]\n",
      " [2.5]\n",
      " [2.4]\n",
      " [2.3]\n",
      " [2.2]\n",
      " [2.1]\n",
      " [2. ]\n",
      " [1.9]\n",
      " [1.8]\n",
      " [1.7]\n",
      " [1.6]\n",
      " [1.5]\n",
      " [1.4]\n",
      " [1.3]\n",
      " [1.2]\n",
      " [1.1]\n",
      " [1. ]\n",
      " [0.9]\n",
      " [0.8]\n",
      " [0.7]\n",
      " [0.6]\n",
      " [0.5]\n",
      " [0.4]\n",
      " [0.3]\n",
      " [0.2]\n",
      " [0.1]\n",
      " [0.1]]\n"
     ]
    }
   ],
   "execution_count": 15
  },
  {
   "metadata": {
    "ExecuteTime": {
     "end_time": "2024-08-31T15:34:22.069911Z",
     "start_time": "2024-08-31T15:34:22.049454Z"
    }
   },
   "cell_type": "code",
   "source": [
    "model.eval()\n",
    "\n",
    "# conversion in PyTorch tensor\n",
    "J_flattened = J_new.reshape(1, -1)\n",
    "T_values_tensor = torch.tensor(T_values.reshape(-1, 1), dtype=torch.float32)\n",
    "J_tensors = torch.tensor(J_flattened, dtype=torch.float32).repeat(len(T_values), 1)\n",
    "X_test = torch.cat((J_tensors, T_values_tensor), dim=1)\n",
    "\n",
    "# Neural Network predictions\n",
    "with torch.no_grad():\n",
    "    y_pred = model(X_test)\n",
    "    \n",
    "\n",
    "# extracting energies and q_EA form network predictions\n",
    "nn_energies = y_pred[:, 0]\n",
    "nn_q_EAs = y_pred[:, 1]\n"
   ],
   "id": "300cb68e0c6e13ae",
   "outputs": [],
   "execution_count": 23
  },
  {
   "metadata": {
    "ExecuteTime": {
     "end_time": "2024-08-31T15:34:26.639248Z",
     "start_time": "2024-08-31T15:34:26.171817Z"
    }
   },
   "cell_type": "code",
   "source": [
    "# compare results\n",
    "\n",
    "plt.figure(figsize=(14, 6))\n",
    "\n",
    "# mean energy \n",
    "plt.subplot(1, 2, 1)\n",
    "plt.plot(T_values, mc_energies, 'o-', label='Monte Carlo')\n",
    "plt.plot(T_values, nn_energies, 's--', label='Neural Network')\n",
    "plt.xlabel('Temperature (T)')\n",
    "plt.ylabel('Mean energy')\n",
    "plt.title('Mean energy vs Temperature')\n",
    "plt.legend()\n",
    "plt.grid(True)\n",
    "\n",
    "# q_EA\n",
    "plt.subplot(1, 2, 2)\n",
    "plt.plot(T_values, mc_q_EAs, 'o-', label='Monte Carlo')\n",
    "plt.plot(T_values, nn_q_EAs, 's--', label='Neural Network')\n",
    "plt.xlabel('Temperature (T)')\n",
    "plt.ylabel('q_EA')\n",
    "plt.title('q_EA vs Temperature')\n",
    "plt.legend()\n",
    "plt.grid(True)\n",
    "\n",
    "plt.show()\n"
   ],
   "id": "767d21f18f3326d1",
   "outputs": [
    {
     "data": {
      "text/plain": [
       "<Figure size 1400x600 with 2 Axes>"
      ],
      "image/png": "[encoded data removed]"
     },
     "metadata": {},
     "output_type": "display_data"
    }
   ],
   "execution_count": 24
  }
 ],
 "metadata": {
  "kernelspec": {
   "display_name": "Python 3",
   "language": "python",
   "name": "python3"
  },
  "language_info": {
   "codemirror_mode": {
    "name": "ipython",
    "version": 2
   },
   "file_extension": ".py",
   "mimetype": "text/x-python",
   "name": "python",
   "nbconvert_exporter": "python",
   "pygments_lexer": "ipython2",
   "version": "2.7.6"
  }
 },
 "nbformat": 4,
 "nbformat_minor": 5
}
